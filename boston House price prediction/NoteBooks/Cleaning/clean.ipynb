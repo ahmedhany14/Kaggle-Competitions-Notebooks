{
 "cells": [
  {
   "cell_type": "code",
   "execution_count": 203,
   "metadata": {},
   "outputs": [],
   "source": [
    "import pandas as pd\n",
    "import numpy as np\n",
    "import matplotlib.pyplot as plt\n",
    "import seaborn as sns\n",
    "\n",
    "from sklearn.model_selection import train_test_split\n",
    "from sklearn.linear_model import LinearRegression\n",
    "from sklearn.ensemble import RandomForestClassifier\n",
    "from sklearn.tree import DecisionTreeClassifier\n",
    "\n",
    "pd.options.display.max_columns = None"
   ]
  },
  {
   "cell_type": "code",
   "execution_count": 204,
   "metadata": {},
   "outputs": [],
   "source": [
    "boston = pd.read_csv(\n",
    "    r\"/home/ahmed/Ai/Kaggle-Competitions-Notebooks/boston House price prediction/Date_set/train.csv\"\n",
    ")\n",
    "test = pd.read_csv(\n",
    "    r\"/home/ahmed/Ai/Kaggle-Competitions-Notebooks/boston House price prediction/Date_set/test.csv\"\n",
    ")\n",
    "combin = [boston, test]"
   ]
  },
  {
   "cell_type": "markdown",
   "metadata": {},
   "source": [
    "# 1. Removing Redundant Features\n"
   ]
  },
  {
   "cell_type": "code",
   "execution_count": 205,
   "metadata": {},
   "outputs": [
    {
     "data": {
      "text/plain": [
       "((1460, 81), (1459, 80))"
      ]
     },
     "execution_count": 205,
     "metadata": {},
     "output_type": "execute_result"
    }
   ],
   "source": [
    "boston.shape, test.shape"
   ]
  },
  {
   "cell_type": "markdown",
   "metadata": {},
   "source": [
    "##### 1.1. Remove columns with high missing values\n"
   ]
  },
  {
   "cell_type": "code",
   "execution_count": 206,
   "metadata": {},
   "outputs": [
    {
     "data": {
      "text/plain": [
       "[['Alley', 93.76712328767124],\n",
       " ['MasVnrType', 59.726027397260275],\n",
       " ['FireplaceQu', 47.26027397260274],\n",
       " ['PoolQC', 99.52054794520548],\n",
       " ['Fence', 80.75342465753425],\n",
       " ['MiscFeature', 96.3013698630137]]"
      ]
     },
     "execution_count": 206,
     "metadata": {},
     "output_type": "execute_result"
    }
   ],
   "source": [
    "uneeded_columns = []\n",
    "\n",
    "for column in boston.columns:\n",
    "    percentage = boston[column].isna().sum() * 100 / len(boston)\n",
    "    if percentage > 30:\n",
    "        uneeded_columns.append([column, percentage])\n",
    "\n",
    "uneeded_columns"
   ]
  },
  {
   "cell_type": "markdown",
   "metadata": {},
   "source": [
    "##### i will remove those columns from both data sets\n"
   ]
  },
  {
   "cell_type": "code",
   "execution_count": 207,
   "metadata": {},
   "outputs": [
    {
     "data": {
      "text/plain": [
       "((1460, 75), (1459, 74))"
      ]
     },
     "execution_count": 207,
     "metadata": {},
     "output_type": "execute_result"
    }
   ],
   "source": [
    "drop = []\n",
    "for i, j in uneeded_columns:\n",
    "    drop.append(i)\n",
    "\n",
    "for dataset in combin:\n",
    "    dataset.drop(columns=drop, axis=1, inplace=True)\n",
    "\n",
    "boston.shape, test.shape"
   ]
  },
  {
   "cell_type": "markdown",
   "metadata": {},
   "source": [
    "##### 1.2. Handling massing values\n"
   ]
  },
  {
   "cell_type": "code",
   "execution_count": 208,
   "metadata": {},
   "outputs": [
    {
     "name": "stdout",
     "output_type": "stream",
     "text": [
      "[['LotFrontage', 17.73972602739726], ['MasVnrArea', 0.547945205479452], ['GarageYrBlt', 5.5479452054794525]] \n",
      "\n",
      "[['BsmtQual', 2.5342465753424657], ['BsmtCond', 2.5342465753424657], ['BsmtExposure', 2.6027397260273974], ['BsmtFinType1', 2.5342465753424657], ['BsmtFinType2', 2.6027397260273974], ['Electrical', 0.0684931506849315], ['GarageType', 5.5479452054794525], ['GarageFinish', 5.5479452054794525], ['GarageQual', 5.5479452054794525], ['GarageCond', 5.5479452054794525]]\n"
     ]
    }
   ],
   "source": [
    "null_num_columns = []\n",
    "null_cat_columns = []\n",
    "\n",
    "for column in boston.columns:\n",
    "    percentage = boston[column].isna().sum() * 100 / len(boston)\n",
    "    if percentage > 0:\n",
    "        if boston[column].dtype != \"O\":\n",
    "            null_num_columns.append([column, percentage])\n",
    "        else:\n",
    "            null_cat_columns.append([column, percentage])\n",
    "\n",
    "print(null_num_columns, \"\\n\")\n",
    "print(null_cat_columns)"
   ]
  },
  {
   "cell_type": "code",
   "execution_count": 209,
   "metadata": {},
   "outputs": [
    {
     "name": "stdout",
     "output_type": "stream",
     "text": [
      "['LotFrontage', 'MasVnrArea', 'GarageYrBlt']\n",
      "\n",
      "['BsmtQual', 'BsmtCond', 'BsmtExposure', 'BsmtFinType1', 'BsmtFinType2', 'Electrical', 'GarageType', 'GarageFinish', 'GarageQual', 'GarageCond']\n"
     ]
    }
   ],
   "source": [
    "num_columns = []\n",
    "cat_columns = []\n",
    "for i, j in null_num_columns:\n",
    "    num_columns.append(i)\n",
    "\n",
    "for i, j in null_cat_columns:\n",
    "    cat_columns.append(i)\n",
    "\n",
    "\n",
    "print(num_columns)\n",
    "print()\n",
    "print(cat_columns)"
   ]
  },
  {
   "cell_type": "markdown",
   "metadata": {},
   "source": [
    "##### Stratege:\n",
    "\n",
    "if the missing values in the column less than 3%, so i will fill it with mean (for numerical) or mode (for categorical)\n",
    "\n",
    "otherwise, i will use linear models or decision tree to fill the missing values\n"
   ]
  },
  {
   "cell_type": "markdown",
   "metadata": {},
   "source": [
    "##### Numerical values (boston data set)\n"
   ]
  },
  {
   "cell_type": "code",
   "execution_count": 210,
   "metadata": {},
   "outputs": [],
   "source": [
    "def fill_numerical_values_with_linear_model(dataset, column):\n",
    "\n",
    "    data = dataset[[column, \"SalePrice\"]].copy()\n",
    "    data[column] = data[column].fillna(-1)\n",
    "    train = data[data[column] != -1]\n",
    "    missied_data = pd.DataFrame(data[data[column] == -1][\"SalePrice\"])\n",
    "\n",
    "    x_train, x_test, y_train, y_test = train_test_split(\n",
    "        train.drop(columns=column, axis=1),\n",
    "        train[column],\n",
    "        train_size=0.01,\n",
    "        random_state=42,\n",
    "    )\n",
    "\n",
    "    lin_reg = LinearRegression()\n",
    "    lin_reg.fit(x_train, y_train)\n",
    "    predction = list(lin_reg.predict(missied_data))\n",
    "\n",
    "    def update(value):\n",
    "        if value == -1:\n",
    "            ret = int(predction[0])\n",
    "            predction.pop(0)\n",
    "            return ret\n",
    "        return value\n",
    "\n",
    "    dataset[column] = dataset[column].fillna(-1)\n",
    "    dataset[column] = dataset[column].apply(update)\n",
    "\n",
    "    return dataset[column]\n",
    "\n",
    "\n",
    "def fill_numerical_values_with_mean(dataset=pd.DataFrame(), column=str):\n",
    "\n",
    "    mean = dataset[column].mean()\n",
    "    dataset[column] = dataset[column].fillna(mean)\n",
    "    return dataset[column]\n",
    "\n",
    "\n",
    "for column in num_columns:\n",
    "    percentage = boston[column].isna().sum() * 100 / len(boston)\n",
    "\n",
    "    if percentage <= 3:  # with mean\n",
    "        boston[column] = fill_numerical_values_with_mean(boston, column)\n",
    "\n",
    "    else:  # with model\n",
    "        boston[column] = fill_numerical_values_with_linear_model(boston, column)"
   ]
  },
  {
   "cell_type": "markdown",
   "metadata": {},
   "source": [
    "##### Categorical values (boston data set)\n"
   ]
  },
  {
   "cell_type": "code",
   "execution_count": 211,
   "metadata": {},
   "outputs": [],
   "source": [
    "def fill_numerical_values_with_RF_model(dataset, column):\n",
    "    data = dataset[[column, \"SalePrice\"]].copy()\n",
    "    data[column] = data[column].fillna(\"missied_data\")\n",
    "    train = data[data[column] != \"missied_data\"]\n",
    "    missied_data = pd.DataFrame(data[data[column] == \"missied_data\"][\"SalePrice\"])\n",
    "\n",
    "    x_train, x_test, y_train, y_test = train_test_split(\n",
    "        train.drop(columns=column, axis=1),\n",
    "        train[column],\n",
    "        train_size=0.01,\n",
    "        random_state=42,\n",
    "    )\n",
    "\n",
    "    RF = RandomForestClassifier(ccp_alpha=0.015)\n",
    "    RF.fit(x_train, y_train)\n",
    "    predction = list(RF.predict(missied_data))\n",
    "\n",
    "    def update(value):\n",
    "        if value == \"missied_data\":\n",
    "            ret = predction[0]\n",
    "            predction.pop(0)\n",
    "            return ret\n",
    "        return value\n",
    "\n",
    "    dataset[column] = dataset[column].fillna(\"missied_data\")\n",
    "    dataset[column] = dataset[column].apply(update)\n",
    "\n",
    "    return dataset[column]\n",
    "\n",
    "\n",
    "def fill_numerical_values_with_mode(dataset, column):\n",
    "    mode = dataset[column].mode()[0]\n",
    "    dataset[column] = dataset[column].fillna(mode)\n",
    "    return dataset[column]\n",
    "\n",
    "\n",
    "for column in cat_columns:\n",
    "    percentage = boston[column].isna().sum() * 100 / len(boston)\n",
    "\n",
    "    if percentage <= 3:  # with mean\n",
    "        boston[column] = fill_numerical_values_with_mode(boston, column)\n",
    "\n",
    "    else:  # with model\n",
    "        boston[column] = fill_numerical_values_with_RF_model(boston, column)"
   ]
  },
  {
   "cell_type": "markdown",
   "metadata": {},
   "source": [
    "##### Now lets fill data in test dataset\n"
   ]
  },
  {
   "cell_type": "code",
   "execution_count": 217,
   "metadata": {},
   "outputs": [
    {
     "name": "stdout",
     "output_type": "stream",
     "text": [
      "[['LotFrontage', 15.558601782042494], ['MasVnrArea', 1.0281014393420151], ['BsmtFinSF1', 0.06854009595613433], ['BsmtFinSF2', 0.06854009595613433], ['BsmtUnfSF', 0.06854009595613433], ['TotalBsmtSF', 0.06854009595613433], ['BsmtFullBath', 0.13708019191226867], ['BsmtHalfBath', 0.13708019191226867], ['GarageYrBlt', 5.346127484578479], ['GarageCars', 0.06854009595613433], ['GarageArea', 0.06854009595613433]] \n",
      "\n",
      "[['MSZoning', 0.27416038382453733], ['Utilities', 0.13708019191226867], ['Exterior1st', 0.06854009595613433], ['Exterior2nd', 0.06854009595613433], ['BsmtQual', 3.015764222069911], ['BsmtCond', 3.0843043180260454], ['BsmtExposure', 3.015764222069911], ['BsmtFinType1', 2.8786840301576424], ['BsmtFinType2', 2.8786840301576424], ['KitchenQual', 0.06854009595613433], ['Functional', 0.13708019191226867], ['GarageType', 5.2090472926662095], ['GarageFinish', 5.346127484578479], ['GarageQual', 5.346127484578479], ['GarageCond', 5.346127484578479], ['SaleType', 0.06854009595613433]]\n"
     ]
    }
   ],
   "source": [
    "null_num_columns = []\n",
    "null_cat_columns = []\n",
    "\n",
    "for column in test.columns:\n",
    "    percentage = test[column].isna().sum() * 100 / len(test)\n",
    "    if percentage > 0:\n",
    "        if test[column].dtype != \"O\":\n",
    "            null_num_columns.append([column, percentage])\n",
    "        else:\n",
    "            null_cat_columns.append([column, percentage])\n",
    "\n",
    "print(null_num_columns, \"\\n\")\n",
    "print(null_cat_columns)"
   ]
  },
  {
   "cell_type": "markdown",
   "metadata": {},
   "source": [
    "##### All columns has missing values with low percentage, so i will fill them with mean and mode\n"
   ]
  },
  {
   "cell_type": "code",
   "execution_count": 219,
   "metadata": {},
   "outputs": [
    {
     "name": "stdout",
     "output_type": "stream",
     "text": [
      "['LotFrontage', 'MasVnrArea', 'BsmtFinSF1', 'BsmtFinSF2', 'BsmtUnfSF', 'TotalBsmtSF', 'BsmtFullBath', 'BsmtHalfBath', 'GarageYrBlt', 'GarageCars', 'GarageArea']\n",
      "\n",
      "['MSZoning', 'Utilities', 'Exterior1st', 'Exterior2nd', 'BsmtQual', 'BsmtCond', 'BsmtExposure', 'BsmtFinType1', 'BsmtFinType2', 'KitchenQual', 'Functional', 'GarageType', 'GarageFinish', 'GarageQual', 'GarageCond', 'SaleType']\n"
     ]
    }
   ],
   "source": [
    "num_columns = []\n",
    "cat_columns = []\n",
    "for i, j in null_num_columns:\n",
    "    num_columns.append(i)\n",
    "\n",
    "for i, j in null_cat_columns:\n",
    "    cat_columns.append(i)\n",
    "\n",
    "\n",
    "print(num_columns)\n",
    "print()\n",
    "print(cat_columns)"
   ]
  },
  {
   "cell_type": "code",
   "execution_count": 221,
   "metadata": {},
   "outputs": [
    {
     "data": {
      "text/plain": [
       "Id               0\n",
       "MSSubClass       0\n",
       "MSZoning         0\n",
       "LotFrontage      0\n",
       "LotArea          0\n",
       "                ..\n",
       "MiscVal          0\n",
       "MoSold           0\n",
       "YrSold           0\n",
       "SaleType         0\n",
       "SaleCondition    0\n",
       "Length: 74, dtype: int64"
      ]
     },
     "execution_count": 221,
     "metadata": {},
     "output_type": "execute_result"
    }
   ],
   "source": [
    "for column in cat_columns:\n",
    "    test[column] = fill_numerical_values_with_mode(test, column)\n",
    "\n",
    "for column in num_columns:\n",
    "    test[column] = fill_numerical_values_with_mean(test, column)"
   ]
  },
  {
   "cell_type": "code",
   "execution_count": 222,
   "metadata": {},
   "outputs": [
    {
     "data": {
      "text/plain": [
       "((1460, 75), (1459, 74))"
      ]
     },
     "execution_count": 222,
     "metadata": {},
     "output_type": "execute_result"
    }
   ],
   "source": [
    "boston.shape, test.shape"
   ]
  }
 ],
 "metadata": {
  "kernelspec": {
   "display_name": "Python 3",
   "language": "python",
   "name": "python3"
  },
  "language_info": {
   "codemirror_mode": {
    "name": "ipython",
    "version": 3
   },
   "file_extension": ".py",
   "mimetype": "text/x-python",
   "name": "python",
   "nbconvert_exporter": "python",
   "pygments_lexer": "ipython3",
   "version": "3.10.12"
  }
 },
 "nbformat": 4,
 "nbformat_minor": 2
}
